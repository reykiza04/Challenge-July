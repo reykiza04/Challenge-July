{
  "cells": [
    {
      "cell_type": "markdown",
      "metadata": {
        "id": "_dADyUp5ZZuZ"
      },
      "source": [
        "# I. Introduction and Objective\n",
        "## Candidate Introduction\n",
        "\n",
        "> Name = ` Reyki Seprianza`\n",
        "\n",
        "> Profile [Linkedin.com](https://www.linkedin.com/in/reyki-seprianza/)\n",
        "\n",
        "> [See CV candidate](https://docs.google.com/document/d/1P-XA-NZ-q658xwvKPZmnoRmoclCBt6UCcqPbP_484fg/edit?usp=sharing)\n",
        "\n",
        "> [Google Data Visualization of User Data](https://datastudio.google.com/reporting/05f40252-74b0-450d-9931-4026858339f9)\n",
        "\n",
        "Thanks to the hiring partner Vonix, Astra Financial, and IDX for giving me a chance to work with this dataset\n",
        "\n",
        "## Objective\n",
        "I will using python to make feature engineering before make a dashboard\n"
      ]
    },
    {
      "cell_type": "markdown",
      "metadata": {
        "id": "Kl4TASPkdYe2"
      },
      "source": [
        "# II. Import "
      ]
    },
    {
      "cell_type": "code",
      "execution_count": null,
      "metadata": {
        "colab": {
          "base_uri": "https://localhost:8080/"
        },
        "id": "0dYxzNN4dXOF",
        "outputId": "c105049c-ca1e-4349-f536-c52037abe2b4"
      },
      "outputs": [
        {
          "name": "stdout",
          "output_type": "stream",
          "text": [
            "Drive already mounted at /content/drive; to attempt to forcibly remount, call drive.mount(\"/content/drive\", force_remount=True).\n"
          ]
        }
      ],
      "source": [
        "#Connecting Google Collab with Google Drive\n",
        "from google.colab import drive\n",
        "drive.mount('/content/drive')"
      ]
    },
    {
      "cell_type": "code",
      "execution_count": null,
      "metadata": {
        "id": "67ozxARQZTFW"
      },
      "outputs": [],
      "source": [
        "#import libraries for utility\n",
        "import pandas as pd\n",
        "import numpy as np\n",
        "import matplotlib.pyplot as plt \n",
        "import seaborn as sns\n",
        "from matplotlib.ticker import FormatStrFormatter\n",
        "import warnings\n",
        "warnings.filterwarnings(\"ignore\")\n"
      ]
    },
    {
      "cell_type": "markdown",
      "metadata": {
        "id": "QrOyCdzzdxjO"
      },
      "source": [
        "# III. Data Loading"
      ]
    },
    {
      "cell_type": "code",
      "execution_count": null,
      "metadata": {
        "id": "R8IwgM-pd6uU"
      },
      "outputs": [],
      "source": [
        "#path of dataset\n",
        "user_event = '/content/drive/MyDrive/Challenge-July/first question/user-events.csv'\n",
        "# aave = '/content/drive/MyDrive/Challenge-July/second question/Binance_AAVEUSDT_d.csv'\n",
        "# algo = '/content/drive/MyDrive/Challenge-July/second question/Binance_ALGOUSDT_d.csv'\n",
        "# btc = '/content/drive/MyDrive/Challenge-July/second question/Binance_BTCUSDT_d.csv'\n",
        "# doge = '/content/drive/MyDrive/Challenge-July/second question/Binance_DOGEUSDT_d.csv'\n",
        "# eth = '/content/drive/MyDrive/Challenge-July/second question/Binance_ETHUSDT_d.csv'\n",
        "# shib = '/content/drive/MyDrive/Challenge-July/second question/Binance_SHIBUSDT_d.csv'\n",
        "\n",
        "\n"
      ]
    },
    {
      "cell_type": "code",
      "execution_count": null,
      "metadata": {
        "id": "z7CeZI0Tjn7R"
      },
      "outputs": [],
      "source": [
        "#make dataset into pandas dataframe\n",
        "df_user = pd.read_csv(user_event)\n",
        "# df_aave = pd.read_csv(aave)\n",
        "# df_algo = pd.read_csv(algo)\n",
        "# df_btc = pd.read_csv(btc)\n",
        "# df_doge = pd.read_csv(doge)\n",
        "# df_eth = pd.read_csv(eth)\n",
        "# df_shib = pd.read_csv(shib)\n"
      ]
    },
    {
      "cell_type": "markdown",
      "metadata": {
        "id": "khwYsW3GfBuy"
      },
      "source": [
        "## Given Dataset Information\n",
        "\n",
        "> First Question\n",
        "> 1. The data is about online store purchasing record\n",
        "> Second Question\n",
        "\n",
        "> 1. [AAVE](https://www.kraken.com/en-us/learn/what-is-aave-lend)\n",
        "> 2. [ALGO](https://www.investopedia.com/algorand-algo-definition-5217725)\n",
        "> 3. [BTC](https://www.investopedia.com/terms/b/bitcoin.asp)\n",
        "> 4. [DOGE](https://www.coinbase.com/learn/crypto-basics/what-is-dogecoin)\n",
        "> 5. [ETH](https://www.investopedia.com/terms/e/ethereum.asp)\n",
        "> 6. [SHIB](https://www.investopedia.com/shiba-inu-shib-5207903)\n",
        "\n",
        " You can clink on the link for details\n",
        "\n"
      ]
    },
    {
      "cell_type": "markdown",
      "metadata": {
        "id": "fmppxOUFkfUl"
      },
      "source": [
        "# IV. Feature Engginering for EDA Purpose\n"
      ]
    },
    {
      "cell_type": "markdown",
      "metadata": {
        "id": "JMqvyYbTkqbm"
      },
      "source": [
        "\n",
        "## User dataset"
      ]
    },
    {
      "cell_type": "code",
      "execution_count": null,
      "metadata": {
        "colab": {
          "base_uri": "https://localhost:8080/"
        },
        "id": "2fkNSlSWU_wD",
        "outputId": "0009f662-660e-421a-a9f6-e5e6239954f8"
      },
      "outputs": [
        {
          "data": {
            "text/plain": [
              "(885129, 9)"
            ]
          },
          "execution_count": 92,
          "metadata": {},
          "output_type": "execute_result"
        }
      ],
      "source": [
        "#shape of dataset\n",
        "df_user.shape"
      ]
    },
    {
      "cell_type": "markdown",
      "metadata": {
        "id": "dx92a4UOdl9d"
      },
      "source": [
        "Shape before feature engineering"
      ]
    },
    {
      "cell_type": "code",
      "execution_count": null,
      "metadata": {
        "colab": {
          "base_uri": "https://localhost:8080/",
          "height": 206
        },
        "id": "A0AhHkczd2i2",
        "outputId": "db7b3218-5b14-457a-c953-348acd6c9894"
      },
      "outputs": [
        {
          "data": {
            "text/html": [
              "\n",
              "  <div id=\"df-fe649434-cc39-43fc-b69e-c71490354983\">\n",
              "    <div class=\"colab-df-container\">\n",
              "      <div>\n",
              "<style scoped>\n",
              "    .dataframe tbody tr th:only-of-type {\n",
              "        vertical-align: middle;\n",
              "    }\n",
              "\n",
              "    .dataframe tbody tr th {\n",
              "        vertical-align: top;\n",
              "    }\n",
              "\n",
              "    .dataframe thead th {\n",
              "        text-align: right;\n",
              "    }\n",
              "</style>\n",
              "<table border=\"1\" class=\"dataframe\">\n",
              "  <thead>\n",
              "    <tr style=\"text-align: right;\">\n",
              "      <th></th>\n",
              "      <th>event_time</th>\n",
              "      <th>event_type</th>\n",
              "      <th>product_id</th>\n",
              "      <th>category_id</th>\n",
              "      <th>category_code</th>\n",
              "      <th>brand</th>\n",
              "      <th>price</th>\n",
              "      <th>user_id</th>\n",
              "      <th>user_session</th>\n",
              "    </tr>\n",
              "  </thead>\n",
              "  <tbody>\n",
              "    <tr>\n",
              "      <th>0</th>\n",
              "      <td>2020-09-24 11:57:06 UTC</td>\n",
              "      <td>view</td>\n",
              "      <td>1996170</td>\n",
              "      <td>2144415922528452715</td>\n",
              "      <td>electronics.telephone</td>\n",
              "      <td>NaN</td>\n",
              "      <td>31.90</td>\n",
              "      <td>1515915625519388267</td>\n",
              "      <td>LJuJVLEjPT</td>\n",
              "    </tr>\n",
              "    <tr>\n",
              "      <th>1</th>\n",
              "      <td>2020-09-24 11:57:26 UTC</td>\n",
              "      <td>view</td>\n",
              "      <td>139905</td>\n",
              "      <td>2144415926932472027</td>\n",
              "      <td>computers.components.cooler</td>\n",
              "      <td>zalman</td>\n",
              "      <td>17.16</td>\n",
              "      <td>1515915625519380411</td>\n",
              "      <td>tdicluNnRY</td>\n",
              "    </tr>\n",
              "    <tr>\n",
              "      <th>2</th>\n",
              "      <td>2020-09-24 11:57:27 UTC</td>\n",
              "      <td>view</td>\n",
              "      <td>215454</td>\n",
              "      <td>2144415927158964449</td>\n",
              "      <td>NaN</td>\n",
              "      <td>NaN</td>\n",
              "      <td>9.81</td>\n",
              "      <td>1515915625513238515</td>\n",
              "      <td>4TMArHtXQy</td>\n",
              "    </tr>\n",
              "    <tr>\n",
              "      <th>3</th>\n",
              "      <td>2020-09-24 11:57:33 UTC</td>\n",
              "      <td>view</td>\n",
              "      <td>635807</td>\n",
              "      <td>2144415923107266682</td>\n",
              "      <td>computers.peripherals.printer</td>\n",
              "      <td>pantum</td>\n",
              "      <td>113.81</td>\n",
              "      <td>1515915625519014356</td>\n",
              "      <td>aGFYrNgC08</td>\n",
              "    </tr>\n",
              "    <tr>\n",
              "      <th>4</th>\n",
              "      <td>2020-09-24 11:57:36 UTC</td>\n",
              "      <td>view</td>\n",
              "      <td>3658723</td>\n",
              "      <td>2144415921169498184</td>\n",
              "      <td>NaN</td>\n",
              "      <td>cameronsino</td>\n",
              "      <td>15.87</td>\n",
              "      <td>1515915625510743344</td>\n",
              "      <td>aa4mmk0kwQ</td>\n",
              "    </tr>\n",
              "  </tbody>\n",
              "</table>\n",
              "</div>\n",
              "      <button class=\"colab-df-convert\" onclick=\"convertToInteractive('df-fe649434-cc39-43fc-b69e-c71490354983')\"\n",
              "              title=\"Convert this dataframe to an interactive table.\"\n",
              "              style=\"display:none;\">\n",
              "        \n",
              "  <svg xmlns=\"http://www.w3.org/2000/svg\" height=\"24px\"viewBox=\"0 0 24 24\"\n",
              "       width=\"24px\">\n",
              "    <path d=\"M0 0h24v24H0V0z\" fill=\"none\"/>\n",
              "    <path d=\"M18.56 5.44l.94 2.06.94-2.06 2.06-.94-2.06-.94-.94-2.06-.94 2.06-2.06.94zm-11 1L8.5 8.5l.94-2.06 2.06-.94-2.06-.94L8.5 2.5l-.94 2.06-2.06.94zm10 10l.94 2.06.94-2.06 2.06-.94-2.06-.94-.94-2.06-.94 2.06-2.06.94z\"/><path d=\"M17.41 7.96l-1.37-1.37c-.4-.4-.92-.59-1.43-.59-.52 0-1.04.2-1.43.59L10.3 9.45l-7.72 7.72c-.78.78-.78 2.05 0 2.83L4 21.41c.39.39.9.59 1.41.59.51 0 1.02-.2 1.41-.59l7.78-7.78 2.81-2.81c.8-.78.8-2.07 0-2.86zM5.41 20L4 18.59l7.72-7.72 1.47 1.35L5.41 20z\"/>\n",
              "  </svg>\n",
              "      </button>\n",
              "      \n",
              "  <style>\n",
              "    .colab-df-container {\n",
              "      display:flex;\n",
              "      flex-wrap:wrap;\n",
              "      gap: 12px;\n",
              "    }\n",
              "\n",
              "    .colab-df-convert {\n",
              "      background-color: #E8F0FE;\n",
              "      border: none;\n",
              "      border-radius: 50%;\n",
              "      cursor: pointer;\n",
              "      display: none;\n",
              "      fill: #1967D2;\n",
              "      height: 32px;\n",
              "      padding: 0 0 0 0;\n",
              "      width: 32px;\n",
              "    }\n",
              "\n",
              "    .colab-df-convert:hover {\n",
              "      background-color: #E2EBFA;\n",
              "      box-shadow: 0px 1px 2px rgba(60, 64, 67, 0.3), 0px 1px 3px 1px rgba(60, 64, 67, 0.15);\n",
              "      fill: #174EA6;\n",
              "    }\n",
              "\n",
              "    [theme=dark] .colab-df-convert {\n",
              "      background-color: #3B4455;\n",
              "      fill: #D2E3FC;\n",
              "    }\n",
              "\n",
              "    [theme=dark] .colab-df-convert:hover {\n",
              "      background-color: #434B5C;\n",
              "      box-shadow: 0px 1px 3px 1px rgba(0, 0, 0, 0.15);\n",
              "      filter: drop-shadow(0px 1px 2px rgba(0, 0, 0, 0.3));\n",
              "      fill: #FFFFFF;\n",
              "    }\n",
              "  </style>\n",
              "\n",
              "      <script>\n",
              "        const buttonEl =\n",
              "          document.querySelector('#df-fe649434-cc39-43fc-b69e-c71490354983 button.colab-df-convert');\n",
              "        buttonEl.style.display =\n",
              "          google.colab.kernel.accessAllowed ? 'block' : 'none';\n",
              "\n",
              "        async function convertToInteractive(key) {\n",
              "          const element = document.querySelector('#df-fe649434-cc39-43fc-b69e-c71490354983');\n",
              "          const dataTable =\n",
              "            await google.colab.kernel.invokeFunction('convertToInteractive',\n",
              "                                                     [key], {});\n",
              "          if (!dataTable) return;\n",
              "\n",
              "          const docLinkHtml = 'Like what you see? Visit the ' +\n",
              "            '<a target=\"_blank\" href=https://colab.research.google.com/notebooks/data_table.ipynb>data table notebook</a>'\n",
              "            + ' to learn more about interactive tables.';\n",
              "          element.innerHTML = '';\n",
              "          dataTable['output_type'] = 'display_data';\n",
              "          await google.colab.output.renderOutput(dataTable, element);\n",
              "          const docLink = document.createElement('div');\n",
              "          docLink.innerHTML = docLinkHtml;\n",
              "          element.appendChild(docLink);\n",
              "        }\n",
              "      </script>\n",
              "    </div>\n",
              "  </div>\n",
              "  "
            ],
            "text/plain": [
              "                event_time event_type  product_id          category_id  \\\n",
              "0  2020-09-24 11:57:06 UTC       view     1996170  2144415922528452715   \n",
              "1  2020-09-24 11:57:26 UTC       view      139905  2144415926932472027   \n",
              "2  2020-09-24 11:57:27 UTC       view      215454  2144415927158964449   \n",
              "3  2020-09-24 11:57:33 UTC       view      635807  2144415923107266682   \n",
              "4  2020-09-24 11:57:36 UTC       view     3658723  2144415921169498184   \n",
              "\n",
              "                   category_code        brand   price              user_id  \\\n",
              "0          electronics.telephone          NaN   31.90  1515915625519388267   \n",
              "1    computers.components.cooler       zalman   17.16  1515915625519380411   \n",
              "2                            NaN          NaN    9.81  1515915625513238515   \n",
              "3  computers.peripherals.printer       pantum  113.81  1515915625519014356   \n",
              "4                            NaN  cameronsino   15.87  1515915625510743344   \n",
              "\n",
              "  user_session  \n",
              "0   LJuJVLEjPT  \n",
              "1   tdicluNnRY  \n",
              "2   4TMArHtXQy  \n",
              "3   aGFYrNgC08  \n",
              "4   aa4mmk0kwQ  "
            ]
          },
          "execution_count": 93,
          "metadata": {},
          "output_type": "execute_result"
        }
      ],
      "source": [
        "#displaying 5 top row of user data\n",
        "df_user.head(5)"
      ]
    },
    {
      "cell_type": "markdown",
      "metadata": {},
      "source": [
        "on category_code we have item products so i will split it into category and item"
      ]
    },
    {
      "cell_type": "code",
      "execution_count": null,
      "metadata": {
        "colab": {
          "base_uri": "https://localhost:8080/"
        },
        "id": "SO6Vzv2QjFsm",
        "outputId": "c5e83fd6-6c66-4265-c43a-5eaacdc981bc"
      },
      "outputs": [
        {
          "name": "stdout",
          "output_type": "stream",
          "text": [
            "<class 'pandas.core.frame.DataFrame'>\n",
            "RangeIndex: 885129 entries, 0 to 885128\n",
            "Data columns (total 9 columns):\n",
            " #   Column         Non-Null Count   Dtype  \n",
            "---  ------         --------------   -----  \n",
            " 0   event_time     885129 non-null  object \n",
            " 1   event_type     885129 non-null  object \n",
            " 2   product_id     885129 non-null  int64  \n",
            " 3   category_id    885129 non-null  int64  \n",
            " 4   category_code  648910 non-null  object \n",
            " 5   brand          672765 non-null  object \n",
            " 6   price          885129 non-null  float64\n",
            " 7   user_id        885129 non-null  int64  \n",
            " 8   user_session   884964 non-null  object \n",
            "dtypes: float64(1), int64(3), object(5)\n",
            "memory usage: 60.8+ MB\n"
          ]
        }
      ],
      "source": [
        "df_user.info()"
      ]
    },
    {
      "cell_type": "code",
      "execution_count": null,
      "metadata": {
        "id": "zn4x7bo7xozk"
      },
      "outputs": [],
      "source": [
        "#Convert event_time to datetime type and extract day,month, year, hour and minute\n",
        "\n",
        "df_user[\"event_time\"] = pd.to_datetime(df_user[\"event_time\"])\n",
        "\n",
        "df_user[\"event_date\"] = df_user[\"event_time\"].dt.date\n",
        "# df_user[\"event_month\"] = df_user[\"event_time\"].dt.month\n",
        "# df_user[\"event_year\"] = df_user[\"event_time\"].dt.year\n",
        "# df_user[\"event_hour\"] = df_user[\"event_time\"].dt.hour\n",
        "# df_user[\"event_minute\"] = df_user[\"event_time\"].dt.minute"
      ]
    },
    {
      "cell_type": "code",
      "execution_count": null,
      "metadata": {
        "colab": {
          "base_uri": "https://localhost:8080/"
        },
        "id": "Do5c3mw5zHvW",
        "outputId": "9d1e5a99-6644-44ad-82c8-0331e1fc2a6f"
      },
      "outputs": [
        {
          "data": {
            "text/plain": [
              "(885129, 10)"
            ]
          },
          "execution_count": 96,
          "metadata": {},
          "output_type": "execute_result"
        }
      ],
      "source": [
        "#shape after spliting datetime series\n",
        "df_user.shape"
      ]
    },
    {
      "cell_type": "code",
      "execution_count": null,
      "metadata": {
        "id": "WNR6Jio-zgIo"
      },
      "outputs": [],
      "source": [
        "#splitting category_code into category and item columns\n",
        "df_user[['category', 'item']] = df_user['category_code'].str.split('.', 1, expand=True)"
      ]
    },
    {
      "cell_type": "code",
      "execution_count": null,
      "metadata": {
        "colab": {
          "base_uri": "https://localhost:8080/"
        },
        "id": "diob2BT-XMjg",
        "outputId": "54708a44-d660-4b91-a877-836a1b4ee87f"
      },
      "outputs": [
        {
          "data": {
            "text/plain": [
              "(885129, 12)"
            ]
          },
          "execution_count": 98,
          "metadata": {},
          "output_type": "execute_result"
        }
      ],
      "source": [
        "#Shape after spliting category_code\n",
        "df_user.shape"
      ]
    },
    {
      "cell_type": "code",
      "execution_count": null,
      "metadata": {
        "colab": {
          "base_uri": "https://localhost:8080/",
          "height": 250
        },
        "id": "xOdr6WjLXQN2",
        "outputId": "54a2bcb8-b964-4734-c98f-3d95b7eca666"
      },
      "outputs": [
        {
          "data": {
            "text/html": [
              "\n",
              "  <div id=\"df-96e405a4-4b92-44fa-bb47-3b37e67cc73c\">\n",
              "    <div class=\"colab-df-container\">\n",
              "      <div>\n",
              "<style scoped>\n",
              "    .dataframe tbody tr th:only-of-type {\n",
              "        vertical-align: middle;\n",
              "    }\n",
              "\n",
              "    .dataframe tbody tr th {\n",
              "        vertical-align: top;\n",
              "    }\n",
              "\n",
              "    .dataframe thead th {\n",
              "        text-align: right;\n",
              "    }\n",
              "</style>\n",
              "<table border=\"1\" class=\"dataframe\">\n",
              "  <thead>\n",
              "    <tr style=\"text-align: right;\">\n",
              "      <th></th>\n",
              "      <th>event_time</th>\n",
              "      <th>event_type</th>\n",
              "      <th>product_id</th>\n",
              "      <th>category_id</th>\n",
              "      <th>category_code</th>\n",
              "      <th>brand</th>\n",
              "      <th>price</th>\n",
              "      <th>user_id</th>\n",
              "      <th>user_session</th>\n",
              "      <th>event_date</th>\n",
              "      <th>category</th>\n",
              "      <th>item</th>\n",
              "    </tr>\n",
              "  </thead>\n",
              "  <tbody>\n",
              "    <tr>\n",
              "      <th>0</th>\n",
              "      <td>2020-09-24 11:57:06+00:00</td>\n",
              "      <td>view</td>\n",
              "      <td>1996170</td>\n",
              "      <td>2144415922528452715</td>\n",
              "      <td>electronics.telephone</td>\n",
              "      <td>NaN</td>\n",
              "      <td>31.90</td>\n",
              "      <td>1515915625519388267</td>\n",
              "      <td>LJuJVLEjPT</td>\n",
              "      <td>2020-09-24</td>\n",
              "      <td>electronics</td>\n",
              "      <td>telephone</td>\n",
              "    </tr>\n",
              "    <tr>\n",
              "      <th>1</th>\n",
              "      <td>2020-09-24 11:57:26+00:00</td>\n",
              "      <td>view</td>\n",
              "      <td>139905</td>\n",
              "      <td>2144415926932472027</td>\n",
              "      <td>computers.components.cooler</td>\n",
              "      <td>zalman</td>\n",
              "      <td>17.16</td>\n",
              "      <td>1515915625519380411</td>\n",
              "      <td>tdicluNnRY</td>\n",
              "      <td>2020-09-24</td>\n",
              "      <td>computers</td>\n",
              "      <td>components.cooler</td>\n",
              "    </tr>\n",
              "    <tr>\n",
              "      <th>2</th>\n",
              "      <td>2020-09-24 11:57:27+00:00</td>\n",
              "      <td>view</td>\n",
              "      <td>215454</td>\n",
              "      <td>2144415927158964449</td>\n",
              "      <td>NaN</td>\n",
              "      <td>NaN</td>\n",
              "      <td>9.81</td>\n",
              "      <td>1515915625513238515</td>\n",
              "      <td>4TMArHtXQy</td>\n",
              "      <td>2020-09-24</td>\n",
              "      <td>NaN</td>\n",
              "      <td>NaN</td>\n",
              "    </tr>\n",
              "    <tr>\n",
              "      <th>3</th>\n",
              "      <td>2020-09-24 11:57:33+00:00</td>\n",
              "      <td>view</td>\n",
              "      <td>635807</td>\n",
              "      <td>2144415923107266682</td>\n",
              "      <td>computers.peripherals.printer</td>\n",
              "      <td>pantum</td>\n",
              "      <td>113.81</td>\n",
              "      <td>1515915625519014356</td>\n",
              "      <td>aGFYrNgC08</td>\n",
              "      <td>2020-09-24</td>\n",
              "      <td>computers</td>\n",
              "      <td>peripherals.printer</td>\n",
              "    </tr>\n",
              "    <tr>\n",
              "      <th>4</th>\n",
              "      <td>2020-09-24 11:57:36+00:00</td>\n",
              "      <td>view</td>\n",
              "      <td>3658723</td>\n",
              "      <td>2144415921169498184</td>\n",
              "      <td>NaN</td>\n",
              "      <td>cameronsino</td>\n",
              "      <td>15.87</td>\n",
              "      <td>1515915625510743344</td>\n",
              "      <td>aa4mmk0kwQ</td>\n",
              "      <td>2020-09-24</td>\n",
              "      <td>NaN</td>\n",
              "      <td>NaN</td>\n",
              "    </tr>\n",
              "  </tbody>\n",
              "</table>\n",
              "</div>\n",
              "      <button class=\"colab-df-convert\" onclick=\"convertToInteractive('df-96e405a4-4b92-44fa-bb47-3b37e67cc73c')\"\n",
              "              title=\"Convert this dataframe to an interactive table.\"\n",
              "              style=\"display:none;\">\n",
              "        \n",
              "  <svg xmlns=\"http://www.w3.org/2000/svg\" height=\"24px\"viewBox=\"0 0 24 24\"\n",
              "       width=\"24px\">\n",
              "    <path d=\"M0 0h24v24H0V0z\" fill=\"none\"/>\n",
              "    <path d=\"M18.56 5.44l.94 2.06.94-2.06 2.06-.94-2.06-.94-.94-2.06-.94 2.06-2.06.94zm-11 1L8.5 8.5l.94-2.06 2.06-.94-2.06-.94L8.5 2.5l-.94 2.06-2.06.94zm10 10l.94 2.06.94-2.06 2.06-.94-2.06-.94-.94-2.06-.94 2.06-2.06.94z\"/><path d=\"M17.41 7.96l-1.37-1.37c-.4-.4-.92-.59-1.43-.59-.52 0-1.04.2-1.43.59L10.3 9.45l-7.72 7.72c-.78.78-.78 2.05 0 2.83L4 21.41c.39.39.9.59 1.41.59.51 0 1.02-.2 1.41-.59l7.78-7.78 2.81-2.81c.8-.78.8-2.07 0-2.86zM5.41 20L4 18.59l7.72-7.72 1.47 1.35L5.41 20z\"/>\n",
              "  </svg>\n",
              "      </button>\n",
              "      \n",
              "  <style>\n",
              "    .colab-df-container {\n",
              "      display:flex;\n",
              "      flex-wrap:wrap;\n",
              "      gap: 12px;\n",
              "    }\n",
              "\n",
              "    .colab-df-convert {\n",
              "      background-color: #E8F0FE;\n",
              "      border: none;\n",
              "      border-radius: 50%;\n",
              "      cursor: pointer;\n",
              "      display: none;\n",
              "      fill: #1967D2;\n",
              "      height: 32px;\n",
              "      padding: 0 0 0 0;\n",
              "      width: 32px;\n",
              "    }\n",
              "\n",
              "    .colab-df-convert:hover {\n",
              "      background-color: #E2EBFA;\n",
              "      box-shadow: 0px 1px 2px rgba(60, 64, 67, 0.3), 0px 1px 3px 1px rgba(60, 64, 67, 0.15);\n",
              "      fill: #174EA6;\n",
              "    }\n",
              "\n",
              "    [theme=dark] .colab-df-convert {\n",
              "      background-color: #3B4455;\n",
              "      fill: #D2E3FC;\n",
              "    }\n",
              "\n",
              "    [theme=dark] .colab-df-convert:hover {\n",
              "      background-color: #434B5C;\n",
              "      box-shadow: 0px 1px 3px 1px rgba(0, 0, 0, 0.15);\n",
              "      filter: drop-shadow(0px 1px 2px rgba(0, 0, 0, 0.3));\n",
              "      fill: #FFFFFF;\n",
              "    }\n",
              "  </style>\n",
              "\n",
              "      <script>\n",
              "        const buttonEl =\n",
              "          document.querySelector('#df-96e405a4-4b92-44fa-bb47-3b37e67cc73c button.colab-df-convert');\n",
              "        buttonEl.style.display =\n",
              "          google.colab.kernel.accessAllowed ? 'block' : 'none';\n",
              "\n",
              "        async function convertToInteractive(key) {\n",
              "          const element = document.querySelector('#df-96e405a4-4b92-44fa-bb47-3b37e67cc73c');\n",
              "          const dataTable =\n",
              "            await google.colab.kernel.invokeFunction('convertToInteractive',\n",
              "                                                     [key], {});\n",
              "          if (!dataTable) return;\n",
              "\n",
              "          const docLinkHtml = 'Like what you see? Visit the ' +\n",
              "            '<a target=\"_blank\" href=https://colab.research.google.com/notebooks/data_table.ipynb>data table notebook</a>'\n",
              "            + ' to learn more about interactive tables.';\n",
              "          element.innerHTML = '';\n",
              "          dataTable['output_type'] = 'display_data';\n",
              "          await google.colab.output.renderOutput(dataTable, element);\n",
              "          const docLink = document.createElement('div');\n",
              "          docLink.innerHTML = docLinkHtml;\n",
              "          element.appendChild(docLink);\n",
              "        }\n",
              "      </script>\n",
              "    </div>\n",
              "  </div>\n",
              "  "
            ],
            "text/plain": [
              "                 event_time event_type  product_id          category_id  \\\n",
              "0 2020-09-24 11:57:06+00:00       view     1996170  2144415922528452715   \n",
              "1 2020-09-24 11:57:26+00:00       view      139905  2144415926932472027   \n",
              "2 2020-09-24 11:57:27+00:00       view      215454  2144415927158964449   \n",
              "3 2020-09-24 11:57:33+00:00       view      635807  2144415923107266682   \n",
              "4 2020-09-24 11:57:36+00:00       view     3658723  2144415921169498184   \n",
              "\n",
              "                   category_code        brand   price              user_id  \\\n",
              "0          electronics.telephone          NaN   31.90  1515915625519388267   \n",
              "1    computers.components.cooler       zalman   17.16  1515915625519380411   \n",
              "2                            NaN          NaN    9.81  1515915625513238515   \n",
              "3  computers.peripherals.printer       pantum  113.81  1515915625519014356   \n",
              "4                            NaN  cameronsino   15.87  1515915625510743344   \n",
              "\n",
              "  user_session  event_date     category                 item  \n",
              "0   LJuJVLEjPT  2020-09-24  electronics            telephone  \n",
              "1   tdicluNnRY  2020-09-24    computers    components.cooler  \n",
              "2   4TMArHtXQy  2020-09-24          NaN                  NaN  \n",
              "3   aGFYrNgC08  2020-09-24    computers  peripherals.printer  \n",
              "4   aa4mmk0kwQ  2020-09-24          NaN                  NaN  "
            ]
          },
          "execution_count": 99,
          "metadata": {},
          "output_type": "execute_result"
        }
      ],
      "source": [
        "df_user.head(5)"
      ]
    },
    {
      "cell_type": "code",
      "execution_count": null,
      "metadata": {
        "colab": {
          "base_uri": "https://localhost:8080/"
        },
        "id": "8JbigQ2AzbSY",
        "outputId": "1f1ca3fb-59de-4695-9b1c-639ce92c5dfa"
      },
      "outputs": [
        {
          "data": {
            "text/plain": [
              "event_time            0\n",
              "event_type            0\n",
              "product_id            0\n",
              "category_id           0\n",
              "category_code    236219\n",
              "brand            212364\n",
              "price                 0\n",
              "user_id               0\n",
              "user_session        165\n",
              "event_date            0\n",
              "category         236219\n",
              "item             236219\n",
              "dtype: int64"
            ]
          },
          "execution_count": 100,
          "metadata": {},
          "output_type": "execute_result"
        }
      ],
      "source": [
        "#Nan value on our data\n",
        "df_user.isna().sum()"
      ]
    },
    {
      "cell_type": "markdown",
      "metadata": {
        "id": "2JMcdJ5zeH1c"
      },
      "source": [
        "Because in order to make EDA my asumsion is to keep mising value to make an EDA"
      ]
    },
    {
      "cell_type": "code",
      "execution_count": null,
      "metadata": {
        "id": "APu5S23La9t6"
      },
      "outputs": [],
      "source": [
        "#make final dataset to eda and droping original features ,user_season and id\n",
        "df_eda_user = df_user.drop(['product_id','category_id','category_code','user_session'], axis=1)"
      ]
    },
    {
      "cell_type": "code",
      "execution_count": null,
      "metadata": {
        "colab": {
          "base_uri": "https://localhost:8080/",
          "height": 206
        },
        "id": "VbSUnmNlcIiQ",
        "outputId": "f7251ef3-0774-4dd8-f3fd-b6f42992eddb"
      },
      "outputs": [
        {
          "data": {
            "text/html": [
              "\n",
              "  <div id=\"df-bf9b881f-692c-4ce3-9dae-c9f78c0c873b\">\n",
              "    <div class=\"colab-df-container\">\n",
              "      <div>\n",
              "<style scoped>\n",
              "    .dataframe tbody tr th:only-of-type {\n",
              "        vertical-align: middle;\n",
              "    }\n",
              "\n",
              "    .dataframe tbody tr th {\n",
              "        vertical-align: top;\n",
              "    }\n",
              "\n",
              "    .dataframe thead th {\n",
              "        text-align: right;\n",
              "    }\n",
              "</style>\n",
              "<table border=\"1\" class=\"dataframe\">\n",
              "  <thead>\n",
              "    <tr style=\"text-align: right;\">\n",
              "      <th></th>\n",
              "      <th>event_time</th>\n",
              "      <th>event_type</th>\n",
              "      <th>brand</th>\n",
              "      <th>price</th>\n",
              "      <th>user_id</th>\n",
              "      <th>event_date</th>\n",
              "      <th>category</th>\n",
              "      <th>item</th>\n",
              "    </tr>\n",
              "  </thead>\n",
              "  <tbody>\n",
              "    <tr>\n",
              "      <th>0</th>\n",
              "      <td>2020-09-24 11:57:06+00:00</td>\n",
              "      <td>view</td>\n",
              "      <td>NaN</td>\n",
              "      <td>31.90</td>\n",
              "      <td>1515915625519388267</td>\n",
              "      <td>2020-09-24</td>\n",
              "      <td>electronics</td>\n",
              "      <td>telephone</td>\n",
              "    </tr>\n",
              "    <tr>\n",
              "      <th>1</th>\n",
              "      <td>2020-09-24 11:57:26+00:00</td>\n",
              "      <td>view</td>\n",
              "      <td>zalman</td>\n",
              "      <td>17.16</td>\n",
              "      <td>1515915625519380411</td>\n",
              "      <td>2020-09-24</td>\n",
              "      <td>computers</td>\n",
              "      <td>components.cooler</td>\n",
              "    </tr>\n",
              "    <tr>\n",
              "      <th>2</th>\n",
              "      <td>2020-09-24 11:57:27+00:00</td>\n",
              "      <td>view</td>\n",
              "      <td>NaN</td>\n",
              "      <td>9.81</td>\n",
              "      <td>1515915625513238515</td>\n",
              "      <td>2020-09-24</td>\n",
              "      <td>NaN</td>\n",
              "      <td>NaN</td>\n",
              "    </tr>\n",
              "    <tr>\n",
              "      <th>3</th>\n",
              "      <td>2020-09-24 11:57:33+00:00</td>\n",
              "      <td>view</td>\n",
              "      <td>pantum</td>\n",
              "      <td>113.81</td>\n",
              "      <td>1515915625519014356</td>\n",
              "      <td>2020-09-24</td>\n",
              "      <td>computers</td>\n",
              "      <td>peripherals.printer</td>\n",
              "    </tr>\n",
              "    <tr>\n",
              "      <th>4</th>\n",
              "      <td>2020-09-24 11:57:36+00:00</td>\n",
              "      <td>view</td>\n",
              "      <td>cameronsino</td>\n",
              "      <td>15.87</td>\n",
              "      <td>1515915625510743344</td>\n",
              "      <td>2020-09-24</td>\n",
              "      <td>NaN</td>\n",
              "      <td>NaN</td>\n",
              "    </tr>\n",
              "  </tbody>\n",
              "</table>\n",
              "</div>\n",
              "      <button class=\"colab-df-convert\" onclick=\"convertToInteractive('df-bf9b881f-692c-4ce3-9dae-c9f78c0c873b')\"\n",
              "              title=\"Convert this dataframe to an interactive table.\"\n",
              "              style=\"display:none;\">\n",
              "        \n",
              "  <svg xmlns=\"http://www.w3.org/2000/svg\" height=\"24px\"viewBox=\"0 0 24 24\"\n",
              "       width=\"24px\">\n",
              "    <path d=\"M0 0h24v24H0V0z\" fill=\"none\"/>\n",
              "    <path d=\"M18.56 5.44l.94 2.06.94-2.06 2.06-.94-2.06-.94-.94-2.06-.94 2.06-2.06.94zm-11 1L8.5 8.5l.94-2.06 2.06-.94-2.06-.94L8.5 2.5l-.94 2.06-2.06.94zm10 10l.94 2.06.94-2.06 2.06-.94-2.06-.94-.94-2.06-.94 2.06-2.06.94z\"/><path d=\"M17.41 7.96l-1.37-1.37c-.4-.4-.92-.59-1.43-.59-.52 0-1.04.2-1.43.59L10.3 9.45l-7.72 7.72c-.78.78-.78 2.05 0 2.83L4 21.41c.39.39.9.59 1.41.59.51 0 1.02-.2 1.41-.59l7.78-7.78 2.81-2.81c.8-.78.8-2.07 0-2.86zM5.41 20L4 18.59l7.72-7.72 1.47 1.35L5.41 20z\"/>\n",
              "  </svg>\n",
              "      </button>\n",
              "      \n",
              "  <style>\n",
              "    .colab-df-container {\n",
              "      display:flex;\n",
              "      flex-wrap:wrap;\n",
              "      gap: 12px;\n",
              "    }\n",
              "\n",
              "    .colab-df-convert {\n",
              "      background-color: #E8F0FE;\n",
              "      border: none;\n",
              "      border-radius: 50%;\n",
              "      cursor: pointer;\n",
              "      display: none;\n",
              "      fill: #1967D2;\n",
              "      height: 32px;\n",
              "      padding: 0 0 0 0;\n",
              "      width: 32px;\n",
              "    }\n",
              "\n",
              "    .colab-df-convert:hover {\n",
              "      background-color: #E2EBFA;\n",
              "      box-shadow: 0px 1px 2px rgba(60, 64, 67, 0.3), 0px 1px 3px 1px rgba(60, 64, 67, 0.15);\n",
              "      fill: #174EA6;\n",
              "    }\n",
              "\n",
              "    [theme=dark] .colab-df-convert {\n",
              "      background-color: #3B4455;\n",
              "      fill: #D2E3FC;\n",
              "    }\n",
              "\n",
              "    [theme=dark] .colab-df-convert:hover {\n",
              "      background-color: #434B5C;\n",
              "      box-shadow: 0px 1px 3px 1px rgba(0, 0, 0, 0.15);\n",
              "      filter: drop-shadow(0px 1px 2px rgba(0, 0, 0, 0.3));\n",
              "      fill: #FFFFFF;\n",
              "    }\n",
              "  </style>\n",
              "\n",
              "      <script>\n",
              "        const buttonEl =\n",
              "          document.querySelector('#df-bf9b881f-692c-4ce3-9dae-c9f78c0c873b button.colab-df-convert');\n",
              "        buttonEl.style.display =\n",
              "          google.colab.kernel.accessAllowed ? 'block' : 'none';\n",
              "\n",
              "        async function convertToInteractive(key) {\n",
              "          const element = document.querySelector('#df-bf9b881f-692c-4ce3-9dae-c9f78c0c873b');\n",
              "          const dataTable =\n",
              "            await google.colab.kernel.invokeFunction('convertToInteractive',\n",
              "                                                     [key], {});\n",
              "          if (!dataTable) return;\n",
              "\n",
              "          const docLinkHtml = 'Like what you see? Visit the ' +\n",
              "            '<a target=\"_blank\" href=https://colab.research.google.com/notebooks/data_table.ipynb>data table notebook</a>'\n",
              "            + ' to learn more about interactive tables.';\n",
              "          element.innerHTML = '';\n",
              "          dataTable['output_type'] = 'display_data';\n",
              "          await google.colab.output.renderOutput(dataTable, element);\n",
              "          const docLink = document.createElement('div');\n",
              "          docLink.innerHTML = docLinkHtml;\n",
              "          element.appendChild(docLink);\n",
              "        }\n",
              "      </script>\n",
              "    </div>\n",
              "  </div>\n",
              "  "
            ],
            "text/plain": [
              "                 event_time event_type        brand   price  \\\n",
              "0 2020-09-24 11:57:06+00:00       view          NaN   31.90   \n",
              "1 2020-09-24 11:57:26+00:00       view       zalman   17.16   \n",
              "2 2020-09-24 11:57:27+00:00       view          NaN    9.81   \n",
              "3 2020-09-24 11:57:33+00:00       view       pantum  113.81   \n",
              "4 2020-09-24 11:57:36+00:00       view  cameronsino   15.87   \n",
              "\n",
              "               user_id  event_date     category                 item  \n",
              "0  1515915625519388267  2020-09-24  electronics            telephone  \n",
              "1  1515915625519380411  2020-09-24    computers    components.cooler  \n",
              "2  1515915625513238515  2020-09-24          NaN                  NaN  \n",
              "3  1515915625519014356  2020-09-24    computers  peripherals.printer  \n",
              "4  1515915625510743344  2020-09-24          NaN                  NaN  "
            ]
          },
          "execution_count": 102,
          "metadata": {},
          "output_type": "execute_result"
        }
      ],
      "source": [
        "df_eda_user.head(5)"
      ]
    },
    {
      "cell_type": "code",
      "execution_count": null,
      "metadata": {
        "colab": {
          "base_uri": "https://localhost:8080/"
        },
        "id": "O6ipMdSSejSr",
        "outputId": "75835ab3-ef8c-41e2-e5b5-99f5363cd921"
      },
      "outputs": [
        {
          "data": {
            "text/plain": [
              "(885129, 8)"
            ]
          },
          "execution_count": 103,
          "metadata": {},
          "output_type": "execute_result"
        }
      ],
      "source": [
        "#shape of our final dataset\n",
        "df_eda_user.shape"
      ]
    },
    {
      "cell_type": "code",
      "execution_count": null,
      "metadata": {
        "colab": {
          "base_uri": "https://localhost:8080/"
        },
        "id": "TQLLj7YpcQRt",
        "outputId": "5ff8dd95-3388-42bf-a11f-c88018ea2c2a"
      },
      "outputs": [
        {
          "data": {
            "text/plain": [
              "event_time         0\n",
              "event_type         0\n",
              "brand         212364\n",
              "price              0\n",
              "user_id            0\n",
              "event_date         0\n",
              "category      236219\n",
              "item          236219\n",
              "dtype: int64"
            ]
          },
          "execution_count": 104,
          "metadata": {},
          "output_type": "execute_result"
        }
      ],
      "source": [
        "df_eda_user.isna().sum()"
      ]
    },
    {
      "cell_type": "code",
      "execution_count": null,
      "metadata": {
        "id": "3Dm80aHvsD3R"
      },
      "outputs": [],
      "source": [
        "#i decice to fill mising value with unknown because we need all data to make better visualization\n",
        "df_eda_user.fillna('unknown', inplace=True)"
      ]
    },
    {
      "cell_type": "code",
      "execution_count": null,
      "metadata": {
        "colab": {
          "base_uri": "https://localhost:8080/",
          "height": 206
        },
        "id": "rz8Ale--sj91",
        "outputId": "3925c5d3-4794-4111-f93e-53fd7c0a94f3"
      },
      "outputs": [
        {
          "data": {
            "text/html": [
              "\n",
              "  <div id=\"df-e11d3d57-d3f1-4fa1-96ef-d2fe5c4a795c\">\n",
              "    <div class=\"colab-df-container\">\n",
              "      <div>\n",
              "<style scoped>\n",
              "    .dataframe tbody tr th:only-of-type {\n",
              "        vertical-align: middle;\n",
              "    }\n",
              "\n",
              "    .dataframe tbody tr th {\n",
              "        vertical-align: top;\n",
              "    }\n",
              "\n",
              "    .dataframe thead th {\n",
              "        text-align: right;\n",
              "    }\n",
              "</style>\n",
              "<table border=\"1\" class=\"dataframe\">\n",
              "  <thead>\n",
              "    <tr style=\"text-align: right;\">\n",
              "      <th></th>\n",
              "      <th>event_time</th>\n",
              "      <th>event_type</th>\n",
              "      <th>brand</th>\n",
              "      <th>price</th>\n",
              "      <th>user_id</th>\n",
              "      <th>event_date</th>\n",
              "      <th>category</th>\n",
              "      <th>item</th>\n",
              "    </tr>\n",
              "  </thead>\n",
              "  <tbody>\n",
              "    <tr>\n",
              "      <th>0</th>\n",
              "      <td>2020-09-24 11:57:06+00:00</td>\n",
              "      <td>view</td>\n",
              "      <td>unknown</td>\n",
              "      <td>31.90</td>\n",
              "      <td>1515915625519388267</td>\n",
              "      <td>2020-09-24</td>\n",
              "      <td>electronics</td>\n",
              "      <td>telephone</td>\n",
              "    </tr>\n",
              "    <tr>\n",
              "      <th>1</th>\n",
              "      <td>2020-09-24 11:57:26+00:00</td>\n",
              "      <td>view</td>\n",
              "      <td>zalman</td>\n",
              "      <td>17.16</td>\n",
              "      <td>1515915625519380411</td>\n",
              "      <td>2020-09-24</td>\n",
              "      <td>computers</td>\n",
              "      <td>components.cooler</td>\n",
              "    </tr>\n",
              "    <tr>\n",
              "      <th>2</th>\n",
              "      <td>2020-09-24 11:57:27+00:00</td>\n",
              "      <td>view</td>\n",
              "      <td>unknown</td>\n",
              "      <td>9.81</td>\n",
              "      <td>1515915625513238515</td>\n",
              "      <td>2020-09-24</td>\n",
              "      <td>unknown</td>\n",
              "      <td>unknown</td>\n",
              "    </tr>\n",
              "    <tr>\n",
              "      <th>3</th>\n",
              "      <td>2020-09-24 11:57:33+00:00</td>\n",
              "      <td>view</td>\n",
              "      <td>pantum</td>\n",
              "      <td>113.81</td>\n",
              "      <td>1515915625519014356</td>\n",
              "      <td>2020-09-24</td>\n",
              "      <td>computers</td>\n",
              "      <td>peripherals.printer</td>\n",
              "    </tr>\n",
              "    <tr>\n",
              "      <th>4</th>\n",
              "      <td>2020-09-24 11:57:36+00:00</td>\n",
              "      <td>view</td>\n",
              "      <td>cameronsino</td>\n",
              "      <td>15.87</td>\n",
              "      <td>1515915625510743344</td>\n",
              "      <td>2020-09-24</td>\n",
              "      <td>unknown</td>\n",
              "      <td>unknown</td>\n",
              "    </tr>\n",
              "  </tbody>\n",
              "</table>\n",
              "</div>\n",
              "      <button class=\"colab-df-convert\" onclick=\"convertToInteractive('df-e11d3d57-d3f1-4fa1-96ef-d2fe5c4a795c')\"\n",
              "              title=\"Convert this dataframe to an interactive table.\"\n",
              "              style=\"display:none;\">\n",
              "        \n",
              "  <svg xmlns=\"http://www.w3.org/2000/svg\" height=\"24px\"viewBox=\"0 0 24 24\"\n",
              "       width=\"24px\">\n",
              "    <path d=\"M0 0h24v24H0V0z\" fill=\"none\"/>\n",
              "    <path d=\"M18.56 5.44l.94 2.06.94-2.06 2.06-.94-2.06-.94-.94-2.06-.94 2.06-2.06.94zm-11 1L8.5 8.5l.94-2.06 2.06-.94-2.06-.94L8.5 2.5l-.94 2.06-2.06.94zm10 10l.94 2.06.94-2.06 2.06-.94-2.06-.94-.94-2.06-.94 2.06-2.06.94z\"/><path d=\"M17.41 7.96l-1.37-1.37c-.4-.4-.92-.59-1.43-.59-.52 0-1.04.2-1.43.59L10.3 9.45l-7.72 7.72c-.78.78-.78 2.05 0 2.83L4 21.41c.39.39.9.59 1.41.59.51 0 1.02-.2 1.41-.59l7.78-7.78 2.81-2.81c.8-.78.8-2.07 0-2.86zM5.41 20L4 18.59l7.72-7.72 1.47 1.35L5.41 20z\"/>\n",
              "  </svg>\n",
              "      </button>\n",
              "      \n",
              "  <style>\n",
              "    .colab-df-container {\n",
              "      display:flex;\n",
              "      flex-wrap:wrap;\n",
              "      gap: 12px;\n",
              "    }\n",
              "\n",
              "    .colab-df-convert {\n",
              "      background-color: #E8F0FE;\n",
              "      border: none;\n",
              "      border-radius: 50%;\n",
              "      cursor: pointer;\n",
              "      display: none;\n",
              "      fill: #1967D2;\n",
              "      height: 32px;\n",
              "      padding: 0 0 0 0;\n",
              "      width: 32px;\n",
              "    }\n",
              "\n",
              "    .colab-df-convert:hover {\n",
              "      background-color: #E2EBFA;\n",
              "      box-shadow: 0px 1px 2px rgba(60, 64, 67, 0.3), 0px 1px 3px 1px rgba(60, 64, 67, 0.15);\n",
              "      fill: #174EA6;\n",
              "    }\n",
              "\n",
              "    [theme=dark] .colab-df-convert {\n",
              "      background-color: #3B4455;\n",
              "      fill: #D2E3FC;\n",
              "    }\n",
              "\n",
              "    [theme=dark] .colab-df-convert:hover {\n",
              "      background-color: #434B5C;\n",
              "      box-shadow: 0px 1px 3px 1px rgba(0, 0, 0, 0.15);\n",
              "      filter: drop-shadow(0px 1px 2px rgba(0, 0, 0, 0.3));\n",
              "      fill: #FFFFFF;\n",
              "    }\n",
              "  </style>\n",
              "\n",
              "      <script>\n",
              "        const buttonEl =\n",
              "          document.querySelector('#df-e11d3d57-d3f1-4fa1-96ef-d2fe5c4a795c button.colab-df-convert');\n",
              "        buttonEl.style.display =\n",
              "          google.colab.kernel.accessAllowed ? 'block' : 'none';\n",
              "\n",
              "        async function convertToInteractive(key) {\n",
              "          const element = document.querySelector('#df-e11d3d57-d3f1-4fa1-96ef-d2fe5c4a795c');\n",
              "          const dataTable =\n",
              "            await google.colab.kernel.invokeFunction('convertToInteractive',\n",
              "                                                     [key], {});\n",
              "          if (!dataTable) return;\n",
              "\n",
              "          const docLinkHtml = 'Like what you see? Visit the ' +\n",
              "            '<a target=\"_blank\" href=https://colab.research.google.com/notebooks/data_table.ipynb>data table notebook</a>'\n",
              "            + ' to learn more about interactive tables.';\n",
              "          element.innerHTML = '';\n",
              "          dataTable['output_type'] = 'display_data';\n",
              "          await google.colab.output.renderOutput(dataTable, element);\n",
              "          const docLink = document.createElement('div');\n",
              "          docLink.innerHTML = docLinkHtml;\n",
              "          element.appendChild(docLink);\n",
              "        }\n",
              "      </script>\n",
              "    </div>\n",
              "  </div>\n",
              "  "
            ],
            "text/plain": [
              "                 event_time event_type        brand   price  \\\n",
              "0 2020-09-24 11:57:06+00:00       view      unknown   31.90   \n",
              "1 2020-09-24 11:57:26+00:00       view       zalman   17.16   \n",
              "2 2020-09-24 11:57:27+00:00       view      unknown    9.81   \n",
              "3 2020-09-24 11:57:33+00:00       view       pantum  113.81   \n",
              "4 2020-09-24 11:57:36+00:00       view  cameronsino   15.87   \n",
              "\n",
              "               user_id  event_date     category                 item  \n",
              "0  1515915625519388267  2020-09-24  electronics            telephone  \n",
              "1  1515915625519380411  2020-09-24    computers    components.cooler  \n",
              "2  1515915625513238515  2020-09-24      unknown              unknown  \n",
              "3  1515915625519014356  2020-09-24    computers  peripherals.printer  \n",
              "4  1515915625510743344  2020-09-24      unknown              unknown  "
            ]
          },
          "execution_count": 106,
          "metadata": {},
          "output_type": "execute_result"
        }
      ],
      "source": [
        "df_eda_user.head(5)"
      ]
    },
    {
      "cell_type": "code",
      "execution_count": null,
      "metadata": {
        "colab": {
          "base_uri": "https://localhost:8080/"
        },
        "id": "cm7TtQWPsY12",
        "outputId": "d998e3c5-d035-40cd-8cd6-f052dbbc5e12"
      },
      "outputs": [
        {
          "data": {
            "text/plain": [
              "event_time    0\n",
              "event_type    0\n",
              "brand         0\n",
              "price         0\n",
              "user_id       0\n",
              "event_date    0\n",
              "category      0\n",
              "item          0\n",
              "dtype: int64"
            ]
          },
          "execution_count": 107,
          "metadata": {},
          "output_type": "execute_result"
        }
      ],
      "source": [
        "df_eda_user.isna().sum()\n"
      ]
    },
    {
      "cell_type": "code",
      "execution_count": null,
      "metadata": {
        "id": "FOaMWDL4dOlz"
      },
      "outputs": [],
      "source": [
        "#saving dataset into csv for Google Data Studio uses\n",
        "df_eda_user.to_csv('df_user_for_gds.csv', index=False)"
      ]
    },
    {
      "cell_type": "markdown",
      "metadata": {
        "id": "GvfL1bswxmqh"
      },
      "source": [
        "# V. Visualization on Google Data Studio\n",
        "\n",
        "[Go to the link click here bellow](https://datastudio.google.com/reporting/05f40252-74b0-450d-9931-4026858339f9)"
      ]
    }
  ],
  "metadata": {
    "colab": {
      "name": "h8 Challenge.ipynb",
      "provenance": []
    },
    "kernelspec": {
      "display_name": "Python 3",
      "name": "python3"
    },
    "language_info": {
      "name": "python"
    }
  },
  "nbformat": 4,
  "nbformat_minor": 0
}
